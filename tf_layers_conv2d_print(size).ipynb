{
  "nbformat": 4,
  "nbformat_minor": 0,
  "metadata": {
    "colab": {
      "name": "tf.layers.conv2d_print(size).ipynb",
      "provenance": [],
      "collapsed_sections": [],
      "authorship_tag": "ABX9TyN1PLjLORlgDCLgTHP+Z3xv",
      "include_colab_link": true
    },
    "kernelspec": {
      "display_name": "Python 3",
      "name": "python3"
    }
  },
  "cells": [
    {
      "cell_type": "markdown",
      "metadata": {
        "id": "view-in-github",
        "colab_type": "text"
      },
      "source": [
        "<a href=\"https://colab.research.google.com/github/riku12489520/tf.layers.conv2d/blob/main/tf_layers_conv2d_print(size).ipynb\" target=\"_parent\"><img src=\"https://colab.research.google.com/assets/colab-badge.svg\" alt=\"Open In Colab\"/></a>"
      ]
    },
    {
      "cell_type": "code",
      "metadata": {
        "id": "DEQzzG4_13a9"
      },
      "source": [
        "!pip install numpy==1.16\n",
        "!pip install tensorflow==1.15"
      ],
      "execution_count": null,
      "outputs": []
    },
    {
      "cell_type": "code",
      "metadata": {
        "colab": {
          "base_uri": "https://localhost:8080/"
        },
        "id": "3mNH4iI509z9",
        "outputId": "dccee22a-dfa1-418e-81a9-55c4fbbb7376"
      },
      "source": [
        "import tensorflow as tf\n",
        "from tensorflow.contrib import layers\n",
        "import numpy as np\n",
        "img = np.random.randint(0, 255, (1, 104, 66, 32)).astype(np.float32)\n",
        "img_t = tf.constant(img, tf.float32)\n",
        "\n",
        "kernel_size=(3,3)\n",
        "strides=(2,2)\n",
        "\n",
        "conv_v = tf.layers.conv2d(inputs=img_t, filters=16, kernel_size=kernel_size, strides=strides, padding='valid')\n",
        "conv_s = tf.layers.conv2d(inputs=img_t, filters=16, kernel_size=kernel_size, strides=strides, padding='same')\n",
        "\n",
        "print('輸出尺寸：', conv_v.shape)\n",
        "print('輸出尺寸：', conv_s.shape)\n",
        "\n",
        "transpose_v = tf.layers.conv2d_transpose(inputs=img_t, filters=16, kernel_size=kernel_size, strides=(2, 2), padding='valid')\n",
        "transpose_s = tf.layers.conv2d_transpose(inputs=img_t, filters=16, kernel_size=kernel_size, strides=(2, 2), padding='same')\n",
        "print('valid 輸出尺寸：', transpose_v.shape)\n",
        "print('valid 輸出尺寸：', transpose_s.shape)\n"
      ],
      "execution_count": null,
      "outputs": [
        {
          "output_type": "stream",
          "text": [
            "WARNING:tensorflow:From <ipython-input-1-125672b454e4>:10: conv2d (from tensorflow.python.layers.convolutional) is deprecated and will be removed in a future version.\n",
            "Instructions for updating:\n",
            "Use `tf.keras.layers.Conv2D` instead.\n",
            "WARNING:tensorflow:From /usr/local/lib/python3.6/dist-packages/tensorflow_core/python/layers/convolutional.py:424: Layer.apply (from tensorflow.python.keras.engine.base_layer) is deprecated and will be removed in a future version.\n",
            "Instructions for updating:\n",
            "Please use `layer.__call__` method instead.\n",
            "输出尺寸： (1, 51, 32, 16)\n",
            "输出尺寸： (1, 52, 33, 16)\n",
            "WARNING:tensorflow:From <ipython-input-1-125672b454e4>:16: conv2d_transpose (from tensorflow.python.layers.convolutional) is deprecated and will be removed in a future version.\n",
            "Instructions for updating:\n",
            "Use `tf.keras.layers.Conv2DTranspose` instead.\n",
            "valid 输出尺寸： (1, 209, 133, 16)\n",
            "valid 输出尺寸： (1, 208, 132, 16)\n"
          ],
          "name": "stdout"
        }
      ]
    },
    {
      "cell_type": "code",
      "metadata": {
        "colab": {
          "base_uri": "https://localhost:8080/"
        },
        "id": "PsTKP6ufBwXC",
        "outputId": "c3eff51f-bde0-410e-a4ae-2c7c4b0646e8"
      },
      "source": [
        "inputs = np.random.randint(0, 255, (1, 1024, 512, 32)).astype(np.float32)\n",
        "input_ = tf.constant(inputs, tf.float32)\n",
        "\n",
        "conv_1 = tf.layers.conv2d(inputs=input_, filters=16, kernel_size=kernel_size, strides=strides, padding='same')\n",
        "conv_2 = tf.layers.conv2d(inputs=conv_1, filters=16, kernel_size=kernel_size, strides=strides, padding='same')\n",
        "conv_3 = tf.layers.conv2d(inputs=conv_2, filters=16, kernel_size=kernel_size, strides=strides, padding='same')\n",
        "conv_4 = tf.layers.conv2d(inputs=conv_3, filters=16, kernel_size=kernel_size, strides=strides, padding='same')\n",
        "conv_5 = tf.layers.conv2d(inputs=conv_4, filters=16, kernel_size=kernel_size, strides=strides, padding='same')\n",
        "\n",
        "\n",
        "\n",
        "dconv_5 = tf.layers.conv2d_transpose(inputs=conv_5, filters=16, kernel_size=kernel_size, strides=(2, 2), padding='same')\n",
        "#dconv_5_p = tf.pad(dconv_5,[[0,0],[1,0],[0,0],[0,0]])\n",
        "dconv_4 = tf.layers.conv2d_transpose(inputs=dconv_5, filters=16, kernel_size=kernel_size, strides=(2, 2), padding='same')\n",
        "dconv_3 = tf.layers.conv2d_transpose(inputs=dconv_4, filters=16, kernel_size=kernel_size, strides=(2, 2), padding='same')\n",
        "dconv_2 = tf.layers.conv2d_transpose(inputs=dconv_3, filters=16, kernel_size=kernel_size, strides=(2, 2), padding='same')\n",
        "\n",
        "print('conv_1：', conv_1.shape)\n",
        "print('conv_2：', conv_2.shape)\n",
        "print('conv_3：', conv_3.shape)\n",
        "#print('p3：', p3.shape)\n",
        "print('conv_4：', conv_4.shape)\n",
        "print('conv_5：', conv_5.shape)\n",
        "\n",
        "print('dconv_5：', dconv_5.shape)\n",
        "#print('dconv_5_p：', dconv_5_p.shape)\n",
        "print('dconv_4：', dconv_4.shape)\n",
        "print('dconv_3：', dconv_3.shape)\n",
        "print('dconv_2：', dconv_2.shape)\n",
        "\n"
      ],
      "execution_count": null,
      "outputs": [
        {
          "output_type": "stream",
          "text": [
            "conv_1： (1, 512, 256, 16)\n",
            "conv_2： (1, 256, 128, 16)\n",
            "conv_3： (1, 128, 64, 16)\n",
            "conv_4： (1, 64, 32, 16)\n",
            "conv_5： (1, 32, 16, 16)\n",
            "dconv_5： (1, 64, 32, 16)\n",
            "dconv_4： (1, 128, 64, 16)\n",
            "dconv_3： (1, 256, 128, 16)\n",
            "dconv_2： (1, 512, 256, 16)\n"
          ],
          "name": "stdout"
        }
      ]
    },
    {
      "cell_type": "code",
      "metadata": {
        "colab": {
          "base_uri": "https://localhost:8080/"
        },
        "id": "zoCy9RolNivn",
        "outputId": "407a9afe-668d-4bb7-cb8d-af5b760a706b"
      },
      "source": [
        "print(dconv_2.shape[:2])"
      ],
      "execution_count": null,
      "outputs": [
        {
          "output_type": "stream",
          "text": [
            "(1, 512)\n"
          ],
          "name": "stdout"
        }
      ]
    },
    {
      "cell_type": "code",
      "metadata": {
        "id": "1RY7oHIoR9L1"
      },
      "source": [
        ""
      ],
      "execution_count": null,
      "outputs": []
    }
  ]
}
